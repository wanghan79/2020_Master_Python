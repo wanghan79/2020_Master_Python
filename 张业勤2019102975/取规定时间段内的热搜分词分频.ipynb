{
 "cells": [
  {
   "cell_type": "code",
   "execution_count": null,
   "metadata": {},
   "outputs": [],
   "source": [
    "import numpy as np\n",
    "import pandas as pd\n",
    "import jieba\n",
    "from collections import Counter\n"
   ]
  },
  {
   "cell_type": "code",
   "execution_count": null,
   "metadata": {},
   "outputs": [],
   "source": [
    "# wordlist=''\n",
    "# for i in range(21,30):\n",
    "#     filename = \"02_\"+str(i)\n",
    "# #     countNum(filename)\n",
    "#     data = pd.read_csv(filename+'_11.csv',encoding=\"gbk\").iloc[:,1:]\n",
    "#     df=pd.DataFrame(data)\n",
    "#     a=df[\"热搜标题\"].tolist()\n",
    "#     b=','.join([str(i) for i in a])\n",
    "#     wordlist+=b"
   ]
  },
  {
   "cell_type": "code",
   "execution_count": null,
   "metadata": {},
   "outputs": [],
   "source": [
    "#     sent = '武汉首例高龄重症病人康复出院'\n",
    "#     seg_list1 = jieba.cut(sent,cut_all=True)\n",
    "#     print('全模式：','/'.join(seg_list1))\n",
    "#     seg_list2 = jieba.cut(sent,cut_all=False)\n",
    "#     print('精确模式：','/'.join(seg_list2))\n",
    "#     seg_list3 = jieba.cut(sent)\n",
    "#     print('默认精确模式：','/'.join(seg_list3))\n",
    "#     seg_list4 = jieba.cut_for_search(sent)\n",
    "#     print('搜索引擎模式：','/'.join(seg_list4))"
   ]
  },
  {
   "cell_type": "code",
   "execution_count": null,
   "metadata": {},
   "outputs": [],
   "source": [
    "datelist = ['01_23','05_18']\n",
    "wordlist = ''\n",
    "for i in range(len(datelist)):\n",
    "#     filename = datelist[i]\n",
    "    data = pd.read_csv(datelist[i]+'_11.csv',encoding=\"gbk\").iloc[:,1:]\n",
    "    df=pd.DataFrame(data)\n",
    "    a=df[\"热搜标题\"].tolist()\n",
    "    b=','.join([str(i) for i in a])\n",
    "    wordlist+=b\n",
    "# wordlist"
   ]
  },
  {
   "cell_type": "code",
   "execution_count": null,
   "metadata": {},
   "outputs": [],
   "source": [
    "cut_words = \"\"\n",
    "temp = jieba.cut_for_search(wordlist)\n",
    "cut_words += (\" \".join(temp))\n",
    "all_words=cut_words.split()\n",
    "while ',' in all_words:\n",
    "    all_words.remove(',')#replace不好使\n",
    "counter = Counter(all_words)\n",
    "dictionary=dict(counter)\n",
    "df = pd.DataFrame.from_dict(dictionary, orient='index',columns=['词频'])\n",
    "df = df.reset_index().rename(columns = {'index':'热搜词'})\n",
    "dff = df.sort_values(by=\"词频\" , ascending=False)\n",
    "dff\n"
   ]
  },
  {
   "cell_type": "code",
   "execution_count": null,
   "metadata": {},
   "outputs": [],
   "source": []
  },
  {
   "cell_type": "code",
   "execution_count": null,
   "metadata": {},
   "outputs": [],
   "source": []
  },
  {
   "cell_type": "code",
   "execution_count": null,
   "metadata": {},
   "outputs": [],
   "source": []
  }
 ],
 "metadata": {
  "kernelspec": {
   "display_name": "Python 3",
   "language": "python",
   "name": "python3"
  },
  "language_info": {
   "codemirror_mode": {
    "name": "ipython",
    "version": 3
   },
   "file_extension": ".py",
   "mimetype": "text/x-python",
   "name": "python",
   "nbconvert_exporter": "python",
   "pygments_lexer": "ipython3",
   "version": "3.7.4"
  }
 },
 "nbformat": 4,
 "nbformat_minor": 4
}
